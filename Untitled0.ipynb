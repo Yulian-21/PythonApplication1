{
  "nbformat": 4,
  "nbformat_minor": 0,
  "metadata": {
    "colab": {
      "name": "Untitled0.ipynb",
      "provenance": [],
      "authorship_tag": "ABX9TyP6580IEIosogn5fIF3PI3S",
      "include_colab_link": true
    },
    "kernelspec": {
      "name": "python3",
      "display_name": "Python 3"
    },
    "language_info": {
      "name": "python"
    }
  },
  "cells": [
    {
      "cell_type": "markdown",
      "metadata": {
        "id": "view-in-github",
        "colab_type": "text"
      },
      "source": [
        "<a href=\"https://colab.research.google.com/github/Yulian-21/PythonApplication1/blob/master/Untitled0.ipynb\" target=\"_parent\"><img src=\"https://colab.research.google.com/assets/colab-badge.svg\" alt=\"Open In Colab\"/></a>"
      ]
    },
    {
      "cell_type": "code",
      "metadata": {
        "colab": {
          "base_uri": "https://localhost:8080/",
          "height": 266
        },
        "id": "pyMHoIU5lA2O",
        "outputId": "c897852c-a019-4a7e-e5bc-a2278578d745"
      },
      "source": [
        "from sklearn.datasets import make_blobs \n",
        "import numpy as np \n",
        "import matplotlib.pyplot as plt \n",
        " \n",
        " \n",
        "center = (40, 40) \n",
        "secondCenter = (120, 120) \n",
        "distance = 15 \n",
        " \n",
        "firstValueX = np.random.uniform(center[0], center[0] + distance, size=(150,)) \n",
        "firstValueY = np.random.normal(center[0], distance, size=(150,)) \n",
        " \n",
        "secondValueX = np.random.uniform(secondCenter[0], secondCenter[0] + distance, size=(150,)) \n",
        "secondValueY = np.random.normal(secondCenter[0], distance, size=(150,)) \n",
        " \n",
        "plt.scatter(firstValueX, firstValueY) \n",
        "plt.scatter(secondValueX, secondValueY) \n",
        "plt.show()"
      ],
      "execution_count": 1,
      "outputs": [
        {
          "output_type": "display_data",
          "data": {
            "image/png": "[encoded data removed]",
            "text/plain": [
              "<Figure size 432x288 with 1 Axes>"
            ]
          },
          "metadata": {
            "needs_background": "light"
          }
        }
      ]
    }
  ]
}